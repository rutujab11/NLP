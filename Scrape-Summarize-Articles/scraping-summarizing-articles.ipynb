{
 "cells": [
  {
   "cell_type": "markdown",
   "metadata": {},
   "source": [
    "## Scraping and Summarizing news articles"
   ]
  },
  {
   "cell_type": "markdown",
   "metadata": {},
   "source": [
    "### Installing packages nltk and newspaper3k"
   ]
  },
  {
   "cell_type": "code",
   "execution_count": 2,
   "metadata": {
    "scrolled": true
   },
   "outputs": [
    {
     "name": "stdout",
     "output_type": "stream",
     "text": [
      "Requirement already satisfied: nltk in c:\\users\\admin\\anaconda3\\lib\\site-packages (3.4)\n",
      "Requirement already satisfied: six in c:\\users\\admin\\anaconda3\\lib\\site-packages (from nltk) (1.12.0)\n",
      "Requirement already satisfied: singledispatch in c:\\users\\admin\\anaconda3\\lib\\site-packages (from nltk) (3.4.0.3)\n",
      "Note: you may need to restart the kernel to use updated packages.\n"
     ]
    }
   ],
   "source": [
    "pip install nltk"
   ]
  },
  {
   "cell_type": "code",
   "execution_count": 3,
   "metadata": {
    "scrolled": true
   },
   "outputs": [
    {
     "name": "stdout",
     "output_type": "stream",
     "text": [
      "Collecting newspaper3k\n",
      "  Downloading https://files.pythonhosted.org/packages/d7/b9/51afecb35bb61b188a4b44868001de348a0e8134b4dfa00ffc191567c4b9/newspaper3k-0.2.8-py3-none-any.whl (211kB)\n",
      "Collecting cssselect>=0.9.2 (from newspaper3k)\n",
      "  Downloading https://files.pythonhosted.org/packages/3b/d4/3b5c17f00cce85b9a1e6f91096e1cc8e8ede2e1be8e96b87ce1ed09e92c5/cssselect-1.1.0-py2.py3-none-any.whl\n",
      "Requirement already satisfied: PyYAML>=3.11 in c:\\users\\admin\\anaconda3\\lib\\site-packages (from newspaper3k) (5.1)\n",
      "Requirement already satisfied: Pillow>=3.3.0 in c:\\users\\admin\\anaconda3\\lib\\site-packages (from newspaper3k) (5.4.1)\n",
      "Collecting tldextract>=2.0.1 (from newspaper3k)\n",
      "  Downloading https://files.pythonhosted.org/packages/fd/0e/9ab599d6e78f0340bb1d1e28ddeacb38c8bb7f91a1b0eae9a24e9603782f/tldextract-2.2.2-py2.py3-none-any.whl (48kB)\n",
      "Collecting jieba3k>=0.35.1 (from newspaper3k)\n",
      "  Downloading https://files.pythonhosted.org/packages/a9/cb/2c8332bcdc14d33b0bedd18ae0a4981a069c3513e445120da3c3f23a8aaa/jieba3k-0.35.1.zip (7.4MB)\n",
      "Collecting feedfinder2>=0.0.4 (from newspaper3k)\n",
      "  Downloading https://files.pythonhosted.org/packages/35/82/1251fefec3bb4b03fd966c7e7f7a41c9fc2bb00d823a34c13f847fd61406/feedfinder2-0.0.4.tar.gz\n",
      "Requirement already satisfied: python-dateutil>=2.5.3 in c:\\users\\admin\\anaconda3\\lib\\site-packages (from newspaper3k) (2.8.0)\n",
      "Requirement already satisfied: nltk>=3.2.1 in c:\\users\\admin\\anaconda3\\lib\\site-packages (from newspaper3k) (3.4)\n",
      "Requirement already satisfied: requests>=2.10.0 in c:\\users\\admin\\anaconda3\\lib\\site-packages (from newspaper3k) (2.21.0)\n",
      "Requirement already satisfied: lxml>=3.6.0 in c:\\users\\admin\\anaconda3\\lib\\site-packages (from newspaper3k) (4.3.2)\n",
      "Collecting tinysegmenter==0.3 (from newspaper3k)\n",
      "  Downloading https://files.pythonhosted.org/packages/17/82/86982e4b6d16e4febc79c2a1d68ee3b707e8a020c5d2bc4af8052d0f136a/tinysegmenter-0.3.tar.gz\n",
      "Collecting feedparser>=5.2.1 (from newspaper3k)\n",
      "  Downloading https://files.pythonhosted.org/packages/91/d8/7d37fec71ff7c9dbcdd80d2b48bcdd86d6af502156fc93846fb0102cb2c4/feedparser-5.2.1.tar.bz2 (192kB)\n",
      "Requirement already satisfied: beautifulsoup4>=4.4.1 in c:\\users\\admin\\anaconda3\\lib\\site-packages (from newspaper3k) (4.7.1)\n",
      "Requirement already satisfied: idna in c:\\users\\admin\\anaconda3\\lib\\site-packages (from tldextract>=2.0.1->newspaper3k) (2.8)\n",
      "Collecting requests-file>=1.4 (from tldextract>=2.0.1->newspaper3k)\n",
      "  Downloading https://files.pythonhosted.org/packages/77/86/cdb5e8eaed90796aa83a6d9f75cfbd37af553c47a291cd47bc410ef9bdb2/requests_file-1.5.1-py2.py3-none-any.whl\n",
      "Requirement already satisfied: setuptools in c:\\users\\admin\\anaconda3\\lib\\site-packages (from tldextract>=2.0.1->newspaper3k) (40.8.0)\n",
      "Requirement already satisfied: six in c:\\users\\admin\\anaconda3\\lib\\site-packages (from feedfinder2>=0.0.4->newspaper3k) (1.12.0)\n",
      "Requirement already satisfied: singledispatch in c:\\users\\admin\\anaconda3\\lib\\site-packages (from nltk>=3.2.1->newspaper3k) (3.4.0.3)\n",
      "Requirement already satisfied: certifi>=2017.4.17 in c:\\users\\admin\\anaconda3\\lib\\site-packages (from requests>=2.10.0->newspaper3k) (2019.3.9)\n",
      "Requirement already satisfied: urllib3<1.25,>=1.21.1 in c:\\users\\admin\\anaconda3\\lib\\site-packages (from requests>=2.10.0->newspaper3k) (1.24.1)\n",
      "Requirement already satisfied: chardet<3.1.0,>=3.0.2 in c:\\users\\admin\\anaconda3\\lib\\site-packages (from requests>=2.10.0->newspaper3k) (3.0.4)\n",
      "Requirement already satisfied: soupsieve>=1.2 in c:\\users\\admin\\anaconda3\\lib\\site-packages (from beautifulsoup4>=4.4.1->newspaper3k) (1.8)\n",
      "Building wheels for collected packages: jieba3k, feedfinder2, tinysegmenter, feedparser\n",
      "  Building wheel for jieba3k (setup.py): started\n",
      "  Building wheel for jieba3k (setup.py): finished with status 'done'\n",
      "  Stored in directory: C:\\Users\\admin\\AppData\\Local\\pip\\Cache\\wheels\\83\\15\\9c\\a3f1f67e7f7181170ad37d32e503c35da20627c013f438ed34\n",
      "  Building wheel for feedfinder2 (setup.py): started\n",
      "  Building wheel for feedfinder2 (setup.py): finished with status 'done'\n",
      "  Stored in directory: C:\\Users\\admin\\AppData\\Local\\pip\\Cache\\wheels\\de\\03\\ca\\778e3a7a627e3d98836cc890e7cb40c7575424cfd3340f40ed\n",
      "  Building wheel for tinysegmenter (setup.py): started\n",
      "  Building wheel for tinysegmenter (setup.py): finished with status 'done'\n",
      "  Stored in directory: C:\\Users\\admin\\AppData\\Local\\pip\\Cache\\wheels\\81\\2b\\43\\a02ede72324dd40cdd7ca53aad718c7710628e91b8b0dc0f02\n",
      "  Building wheel for feedparser (setup.py): started\n",
      "  Building wheel for feedparser (setup.py): finished with status 'done'\n",
      "  Stored in directory: C:\\Users\\admin\\AppData\\Local\\pip\\Cache\\wheels\\8c\\69\\b7\\f52763c41c5471df57703a0ef718a32a5e81ee35dcf6d4f97f\n",
      "Successfully built jieba3k feedfinder2 tinysegmenter feedparser\n",
      "Installing collected packages: cssselect, requests-file, tldextract, jieba3k, feedfinder2, tinysegmenter, feedparser, newspaper3k\n",
      "Successfully installed cssselect-1.1.0 feedfinder2-0.0.4 feedparser-5.2.1 jieba3k-0.35.1 newspaper3k-0.2.8 requests-file-1.5.1 tinysegmenter-0.3 tldextract-2.2.2\n",
      "Note: you may need to restart the kernel to use updated packages.\n"
     ]
    }
   ],
   "source": [
    "pip install newspaper3k"
   ]
  },
  {
   "cell_type": "markdown",
   "metadata": {},
   "source": [
    "### import the libraries"
   ]
  },
  {
   "cell_type": "code",
   "execution_count": 4,
   "metadata": {
    "scrolled": true
   },
   "outputs": [],
   "source": [
    "import nltk\n",
    "from newspaper import Article"
   ]
  },
  {
   "cell_type": "markdown",
   "metadata": {},
   "source": [
    "### Get the article"
   ]
  },
  {
   "cell_type": "code",
   "execution_count": 5,
   "metadata": {
    "scrolled": true
   },
   "outputs": [],
   "source": [
    "url='https://mumbaimirror.indiatimes.com/coronavirus/news/hope-to-announce-our-own-vaccines-by-the-end-of-2021/articleshow/77309910.cms'\n",
    "article=Article(url)"
   ]
  },
  {
   "cell_type": "code",
   "execution_count": 16,
   "metadata": {
    "scrolled": true
   },
   "outputs": [
    {
     "name": "stderr",
     "output_type": "stream",
     "text": [
      "[nltk_data] Downloading package punkt to\n",
      "[nltk_data]     C:\\Users\\admin\\AppData\\Roaming\\nltk_data...\n",
      "[nltk_data]   Package punkt is already up-to-date!\n"
     ]
    }
   ],
   "source": [
    "article.download()\n",
    "article.parse()\n",
    "nltk.download('punkt')\n",
    "article.nlp()"
   ]
  },
  {
   "cell_type": "code",
   "execution_count": 17,
   "metadata": {
    "scrolled": true
   },
   "outputs": [
    {
     "data": {
      "text/plain": [
       "['Sudipta Basu']"
      ]
     },
     "execution_count": 17,
     "metadata": {},
     "output_type": "execute_result"
    }
   ],
   "source": [
    "article.authors"
   ]
  },
  {
   "cell_type": "code",
   "execution_count": 22,
   "metadata": {
    "scrolled": true
   },
   "outputs": [
    {
     "data": {
      "text/plain": [
       "['ceo',\n",
       " 'healthcare',\n",
       " 'poonawalla',\n",
       " 'announce',\n",
       " 'serum',\n",
       " 'doses',\n",
       " 'institute',\n",
       " 'month',\n",
       " 'million',\n",
       " 'covid19',\n",
       " 'start',\n",
       " 'vaccines',\n",
       " 'india',\n",
       " 'hope',\n",
       " 'vaccine',\n",
       " 'phase',\n",
       " 'end',\n",
       " 'trials']"
      ]
     },
     "execution_count": 22,
     "metadata": {},
     "output_type": "execute_result"
    }
   ],
   "source": [
    "article.keywords"
   ]
  },
  {
   "cell_type": "code",
   "execution_count": 11,
   "metadata": {
    "scrolled": true
   },
   "outputs": [
    {
     "data": {
      "text/plain": [
       "'https://static.toiimg.com/photo/imgsize-53559,msid-77309921/77309921.jpg'"
      ]
     },
     "execution_count": 11,
     "metadata": {},
     "output_type": "execute_result"
    }
   ],
   "source": [
    "article.top_image"
   ]
  },
  {
   "cell_type": "code",
   "execution_count": 13,
   "metadata": {
    "scrolled": true
   },
   "outputs": [
    {
     "name": "stdout",
     "output_type": "stream",
     "text": [
      "Adar Poonawalla\n",
      "\n",
      "BMC suspends Mahim hospital’s licence after overcharging claim Matter came to light after a man, admitted for Covid treatment, died; his sample tested negative after his death.\n",
      "\n",
      "The man bringing us the Covid vaccine\n",
      "\n",
      "\n",
      "\n",
      "Serum-AstraZeneca collaboration\n",
      "\n",
      "This albatross duo has mastered the dance of love 01:01\n",
      "\n",
      "Covishield production\n",
      "\n",
      "SII's Covishield vaccine (Twitter)\n",
      "\n",
      "Parsi community\n",
      "\n",
      "The Serum Institute has dedicated two state-of-the-art technology equipped facilities — with six machines — for manufacturing the Covid-19 vaccine\n",
      "\n",
      "Oxford University\n",
      "\n",
      "How to save the banks What two recent books by former RBI governor Urjit Patel and deputy governor Viral Acharya say about the problems plaguing the country’s financial sector\n",
      "\n",
      "Amar Singh -Networker from an era of politics long bygone Amar Singh’s last memorable public appearance was in July 2018 at Lucknow, precisely two years ago, after which he slipped from political consciousness, confined as he was mostly at Singapore’s Mount Elizabeth Hospital where he was being treated for multiple ailments and where he passed away today at 64.\n",
      "\n",
      "Serum Institute of India CEOon getting ready to manufacture 100 million doses a month of the Covid vaccine and “the biggest fear looming over” everybody’s head in the company.In partnership with the British company, as the Oxford vaccine candidate for COVID-19, it will supply the vaccine across India and other low-and middle-income countries (GAVI countries). One billion doses are to be made over the next one year, with 50 per cent distributed in the country and the remaining half to GAVI countries.Earlier in the week, five sites were declared for the human trials. On Friday, SII inched a step closer to human trials in India as an expert advisory committee to Drug Controller General of India (DCGI) approved the revised protocols submitted by the pharma giant. “With the government fasttracking everything, we are hoping to get approvals soon, post which we will begin phase 3 human trials here in India this month,” says Poonawalla., CEO of Serum Institute of IndiaNeither of our associations has taken a backseat and work is progressing simultaneously. Each of the vaccine candidates are proceeding at their own pace. We must be mindful in ensuring that all requisite trials and procedures are conducted meticulously and appropriately. We have five candidates so far, including two of our own. We hope to announce the availability of our own vaccines by the end of 2021.As for our associations, Codagenix vaccine is in pre-clinical trials and we have worldwide rights for it. The Novavax candidate is just a month or two behind the AstraZeneca Oxford vaccine and we are to manufacture and distribute it across GAVI countries. We have also tied up with a company for an mRNA candidate and hope to announce it soon.Presently, the Oxford-AstraZeneca vaccine is one of the few candidates, which is showing satisfactory results based on the ongoing trials and has been cleared for the final phase. The vaccine is branded Covishield and we are hopeful that it will be an efficacious and immunogenic vaccine, viable for mass use. Based on the success of the trials we are expecting to launch it by the end of this year. I believe by the first quarter of the next year it will start reaching the masses.We have dedicated two of our state-ofthe-art technology equipped facilities — with six machines — in the Hadapsar plant for manufacturing the COVID-19 vaccine, with an investment of over $200 million in the current phase ofPresently, keeping in mind the pandemic situation, and understanding the need to produce millions of doses of the vaccine, we are withholding vast production of other products.Initially, we will start producing a few millions of doses at personal risk. Once we get necessary regulatory approvals, we will start manufacturing in large volumes. We will manufacture about 60 million to 70 million doses per month (which might stretch to 100 million doses later). With this, we are looking to manufacture around 300 million doses by the end of this year.It is too early to comment on the vaccine’s price. However, we will keep it under Rs 1,000. We are certain that it will be procured and distributed by governments without charge. At present, our only aim is to provide an efficacious and affordable vaccine for the masses at the earliest.It was just a casual and friendly exchange between two Parsis. Once the vaccine is made, everyone will have access. In the initial phase, it should be a part of the government immunisation programme so that people don’t have to buy it directly. But it’s still early to talk about this.While we are hoping for the best, the vaccines not proving immunogenic is the biggest fear that looms all over our head. If you look at the process right now, the risk of the OPEX if this vaccine fails, we will be down $200 million, which includes the peripheral and preparatory expenses of the glass vials, the chemicals, the raw materials, the facility, the manpower... This still doesn’t count the opportunity cost of the other products that were designed to go into that production line that we have sacrificed.Immunisation is one of the greatest health interventions in history. It’s true that in India it has been an impending concern despite the constant efforts employed to make people aware of the benefits of vaccinations. Even though there has been a gradual increase in immunisation coverage, vast numbers in India have witnessed a set of fallbacks due to various reasons like lack of awareness on vaccination among the general populace, limited availability of finances, high prices of new vaccines for existing and emerging diseases, in addition to lack of adequate health delivery infrastructure.While addressing the issue of accessibility one of the major issues faced by Indian vaccine manufacturers is lack of adequate storage facility and lack of R&D capacity. Having said that, it must be a collaborative effort amongst all the stakeholders involved, buoyed by strengthening of our healthcare infrastructure, revisiting our healthcare policies, fast-tracking regulatory approvals while complying with necessary trials and tests. Living is not going to be easy — it is time to revisit, re-evaluate and reassess our current situation for a better tomorrow.We were certainly relieved and excited for the next phase of the development. So, while we are being optimistic, we are also being pragmatic about it as we still have a long way to go.Yes, they were also the first ones to develop a vaccine for the Ebola virus. Dr Adrian Hill is a remarkable scientist and has done some great work in the healthcare space. A vaccine usually takes between five and seven years to be in the market; the very fact that we have a potential vaccine candidate in such a short period of time is a big game-changer for the entire healthcare fraternity. Owing to the current situation and circumstances, the approval processes are being fast-tracked. However, none of the tests, trials or similar requisites is being fast-tracked for this. Our aim is to provide an efficacious, effective and immunogenic vaccine for all.It’s too early to go there. Usually vaccines are administered in two doses, minimum, the first dose is used to prime the recipient and the second acts as a booster, thereby ensuring stronger immune response for the respective term of the vaccine. And I believe that the same principle will be applicable for all COVID-19 vaccines that will be available eventually. The vaccine should be given to the vulnerable groups to start with; such as healthcare workers, front line staff, children and elderly people with weak immune systems. Healthy young adults can get it later.Everybody is going above and beyond to achieve the desired results and come up with an effective and immunogenic vaccine at the earliest.\n"
     ]
    }
   ],
   "source": [
    "print(article.text)"
   ]
  },
  {
   "cell_type": "code",
   "execution_count": 14,
   "metadata": {
    "scrolled": true
   },
   "outputs": [
    {
     "name": "stdout",
     "output_type": "stream",
     "text": [
      "We hope to announce the availability of our own vaccines by the end of 2021.As for our associations, Codagenix vaccine is in pre-clinical trials and we have worldwide rights for it.\n",
      "Based on the success of the trials we are expecting to launch it by the end of this year.\n",
      "We will manufacture about 60 million to 70 million doses per month (which might stretch to 100 million doses later).\n",
      "With this, we are looking to manufacture around 300 million doses by the end of this year.It is too early to comment on the vaccine’s price.\n",
      "And I believe that the same principle will be applicable for all COVID-19 vaccines that will be available eventually.\n"
     ]
    }
   ],
   "source": [
    "print(article.summary)"
   ]
  },
  {
   "cell_type": "code",
   "execution_count": null,
   "metadata": {
    "scrolled": true
   },
   "outputs": [],
   "source": []
  }
 ],
 "metadata": {
  "kernelspec": {
   "display_name": "Python 3",
   "language": "python",
   "name": "python3"
  },
  "language_info": {
   "codemirror_mode": {
    "name": "ipython",
    "version": 3
   },
   "file_extension": ".py",
   "mimetype": "text/x-python",
   "name": "python",
   "nbconvert_exporter": "python",
   "pygments_lexer": "ipython3",
   "version": "3.7.3"
  }
 },
 "nbformat": 4,
 "nbformat_minor": 2
}
