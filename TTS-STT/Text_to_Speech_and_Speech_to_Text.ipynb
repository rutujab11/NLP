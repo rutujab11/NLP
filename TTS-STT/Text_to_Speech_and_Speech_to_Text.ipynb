{
 "cells": [
  {
   "cell_type": "markdown",
   "metadata": {},
   "source": [
    "### Text-To-Speech and Speech-To-Text conversion"
   ]
  },
  {
   "cell_type": "code",
   "execution_count": 1,
   "metadata": {},
   "outputs": [],
   "source": [
    "# Text to Speech conversion using pyttsx and IBM Watson\n",
    "# Speech to Text conversion using pyttsx and IBM Watson"
   ]
  },
  {
   "cell_type": "markdown",
   "metadata": {},
   "source": [
    "#### TEXT-TO-SPEECH"
   ]
  },
  {
   "cell_type": "code",
   "execution_count": 2,
   "metadata": {},
   "outputs": [
    {
     "name": "stdout",
     "output_type": "stream",
     "text": [
      "Collecting pyttsx3\n",
      "  Downloading https://files.pythonhosted.org/packages/33/9a/de4781245f5ad966646fd276259ef7cfd400ba3cf7d5db7c0d5aab310c20/pyttsx3-2.90-py3-none-any.whl\n",
      "Collecting pypiwin32; platform_system == \"Windows\" (from pyttsx3)\n",
      "  Downloading https://files.pythonhosted.org/packages/d0/1b/2f292bbd742e369a100c91faa0483172cd91a1a422a6692055ac920946c5/pypiwin32-223-py3-none-any.whl\n",
      "Requirement already satisfied: comtypes; platform_system == \"Windows\" in c:\\users\\admin\\anaconda3\\lib\\site-packages (from pyttsx3) (1.1.7)\n",
      "Requirement already satisfied: pywin32; platform_system == \"Windows\" in c:\\users\\admin\\anaconda3\\lib\\site-packages (from pyttsx3) (223)\n",
      "Installing collected packages: pypiwin32, pyttsx3\n",
      "Successfully installed pypiwin32-223 pyttsx3-2.90\n",
      "Note: you may need to restart the kernel to use updated packages.\n"
     ]
    }
   ],
   "source": [
    "pip install pyttsx3"
   ]
  },
  {
   "cell_type": "code",
   "execution_count": 3,
   "metadata": {},
   "outputs": [],
   "source": [
    "#NLTK TTS\n",
    "\n",
    "import pyttsx3\n",
    "engine=pyttsx3.init()\n",
    "engine.say(\"This code converts Text-to-Speech\")\n",
    "engine.runAndWait()"
   ]
  },
  {
   "cell_type": "code",
   "execution_count": 5,
   "metadata": {},
   "outputs": [
    {
     "name": "stdout",
     "output_type": "stream",
     "text": [
      "Collecting gtts\n",
      "  Downloading https://files.pythonhosted.org/packages/44/31/4494ecac89677d3c839d079363ab655c4751764803ddcd22bcc37f6d32f8/gTTS-2.2.1-py3-none-any.whl\n",
      "Requirement already satisfied: six in c:\\users\\admin\\anaconda3\\lib\\site-packages (from gtts) (1.12.0)\n",
      "Requirement already satisfied: click in c:\\users\\admin\\anaconda3\\lib\\site-packages (from gtts) (7.0)\n",
      "Requirement already satisfied: requests in c:\\users\\admin\\anaconda3\\lib\\site-packages (from gtts) (2.21.0)\n",
      "Requirement already satisfied: certifi>=2017.4.17 in c:\\users\\admin\\anaconda3\\lib\\site-packages (from requests->gtts) (2020.6.20)\n",
      "Requirement already satisfied: urllib3<1.25,>=1.21.1 in c:\\users\\admin\\anaconda3\\lib\\site-packages (from requests->gtts) (1.24.1)\n",
      "Requirement already satisfied: idna<2.9,>=2.5 in c:\\users\\admin\\anaconda3\\lib\\site-packages (from requests->gtts) (2.8)\n",
      "Requirement already satisfied: chardet<3.1.0,>=3.0.2 in c:\\users\\admin\\anaconda3\\lib\\site-packages (from requests->gtts) (3.0.4)\n",
      "Installing collected packages: gtts\n",
      "Successfully installed gtts-2.2.1\n",
      "Note: you may need to restart the kernel to use updated packages.\n"
     ]
    }
   ],
   "source": [
    "pip install gtts"
   ]
  },
  {
   "cell_type": "code",
   "execution_count": 6,
   "metadata": {},
   "outputs": [],
   "source": [
    "import gtts\n",
    "from gtts import gTTS\n",
    "import os\n",
    "mytext = 'Creating an audio file of this text.'\n",
    "language = 'en'\n",
    "myobj = gTTS(text = mytext,lang = language,slow = False)\n",
    "myobj.save(\"Rutuja_tts_1.mp3\")"
   ]
  },
  {
   "cell_type": "markdown",
   "metadata": {},
   "source": [
    "#### SPEECH-TO-TEXT"
   ]
  },
  {
   "cell_type": "code",
   "execution_count": 5,
   "metadata": {},
   "outputs": [
    {
     "name": "stdout",
     "output_type": "stream",
     "text": [
      "Listening...\n",
      "Thats all!\n",
      "text : this code convert speech to text\n"
     ]
    }
   ],
   "source": [
    "#NLTK STT\n",
    "\n",
    "import speech_recognition as sr\n",
    "r=sr.Recognizer()\n",
    "with sr.Microphone() as source:\n",
    "    print(\"Listening...\");\n",
    "    audio=r.listen(source)\n",
    "    print(\"Thats all!\")\n",
    "try:\n",
    "    print(\"text : \"+r.recognize_google(audio));\n",
    "    c=r.recognize_google(audio)\n",
    "    \n",
    "except:\n",
    "    pass;"
   ]
  },
  {
   "cell_type": "markdown",
   "metadata": {},
   "source": [
    "### IMPLEMENTATION USING IBM WATSON"
   ]
  },
  {
   "cell_type": "code",
   "execution_count": 6,
   "metadata": {},
   "outputs": [
    {
     "name": "stdout",
     "output_type": "stream",
     "text": [
      "{\n",
      "  \"name\": \"en-US_OliviaV3Voice\",\n",
      "  \"language\": \"en-US\",\n",
      "  \"gender\": \"female\",\n",
      "  \"description\": \"Olivia: American English female voice. Dnn technology.\",\n",
      "  \"customizable\": true,\n",
      "  \"supported_features\": {\n",
      "    \"custom_pronunciation\": true,\n",
      "    \"voice_transformation\": false\n",
      "  },\n",
      "  \"url\": \"https://api.eu-gb.text-to-speech.watson.cloud.ibm.com/instances/edd20564-5748-4013-a23b-cc493fd422a1/v1/voices/en-US_OliviaV3Voice\"\n",
      "}\n",
      "{\n",
      "  \"pronunciation\": \"`[.2hE.1lo], `[.0wi] `[.0ar] `[.1lR.0nIG] `[.1de.0Fx] `[.2A.0nx.1lI.0FXks] `[.0tx.1de]!`[.0kri.1e.0FIG] `[.0xn] `[.1c.0Fi.0o] `[.1fYl] `[.0xv] `[.0DIs] `[.1tEkst].\"\n",
      "}\n"
     ]
    }
   ],
   "source": [
    "#Watson API TTS\n",
    "\n",
    "import json\n",
    "from ibm_watson import TextToSpeechV1\n",
    "from ibm_cloud_sdk_core.authenticators import IAMAuthenticator\n",
    "authenticator = IAMAuthenticator('92vjot6k2covZg1RtXPLpfKLI-92_M2cng83L5XytBuN')              \n",
    "text_to_speech = TextToSpeechV1(authenticator=authenticator)\n",
    "                                                                                   \n",
    "text_to_speech.set_service_url('https://api.eu-gb.text-to-speech.watson.cloud.ibm.com/instances/edd20564-5748-4013-a23b-cc493fd422a1')\n",
    "voice = text_to_speech.get_voice('en-US_OliviaV3Voice').get_result()\n",
    "print(json.dumps(voice, indent=2))\n",
    "    \n",
    "with open('Rutuja_tts_2.wav', 'wb') as audio_file:\n",
    "    audio_file.write(\n",
    "    text_to_speech.synthesize(\n",
    "        'Hello, we are learning data analytics today! Creating an audio file of this text.',\n",
    "        voice='en-US_OliviaV3Voice',\n",
    "        accept='audio/wav'        \n",
    "    ).get_result().content)\n",
    "    \n",
    "pronunciation = text_to_speech.get_pronunciation(\n",
    "    text='Hello, we are learning data analytics today! Creating an audio file of this text.',\n",
    "    voice='en-US_OliviaV3Voice',\n",
    "    format='ibm'\n",
    ").get_result()\n",
    "print(json.dumps(pronunciation, indent=2))"
   ]
  },
  {
   "cell_type": "code",
   "execution_count": 7,
   "metadata": {},
   "outputs": [
    {
     "name": "stdout",
     "output_type": "stream",
     "text": [
      "{\n",
      "  \"result_index\": 0,\n",
      "  \"results\": [\n",
      "    {\n",
      "      \"final\": true,\n",
      "      \"alternatives\": [\n",
      "        {\n",
      "          \"transcript\": \"hello we are learning data analytics today creating an audio file of this text \",\n",
      "          \"confidence\": 0.94\n",
      "        }\n",
      "      ],\n",
      "      \"word_alternatives\": [\n",
      "        {\n",
      "          \"start_time\": 0.0,\n",
      "          \"end_time\": 0.58,\n",
      "          \"alternatives\": [\n",
      "            {\n",
      "              \"word\": \"hello\",\n",
      "              \"confidence\": 0.98\n",
      "            }\n",
      "          ]\n",
      "        },\n",
      "        {\n",
      "          \"start_time\": 0.65,\n",
      "          \"end_time\": 0.86,\n",
      "          \"alternatives\": [\n",
      "            {\n",
      "              \"word\": \"we\",\n",
      "              \"confidence\": 1.0\n",
      "            }\n",
      "          ]\n",
      "        },\n",
      "        {\n",
      "          \"start_time\": 0.86,\n",
      "          \"end_time\": 1.01,\n",
      "          \"alternatives\": [\n",
      "            {\n",
      "              \"word\": \"are\",\n",
      "              \"confidence\": 0.99\n",
      "            }\n",
      "          ]\n",
      "        },\n",
      "        {\n",
      "          \"start_time\": 1.01,\n",
      "          \"end_time\": 1.36,\n",
      "          \"alternatives\": [\n",
      "            {\n",
      "              \"word\": \"learning\",\n",
      "              \"confidence\": 0.99\n",
      "            }\n",
      "          ]\n",
      "        },\n",
      "        {\n",
      "          \"start_time\": 1.36,\n",
      "          \"end_time\": 1.64,\n",
      "          \"alternatives\": [\n",
      "            {\n",
      "              \"word\": \"data\",\n",
      "              \"confidence\": 0.99\n",
      "            }\n",
      "          ]\n",
      "        },\n",
      "        {\n",
      "          \"start_time\": 1.64,\n",
      "          \"end_time\": 2.27,\n",
      "          \"alternatives\": [\n",
      "            {\n",
      "              \"word\": \"analytics\",\n",
      "              \"confidence\": 0.99\n",
      "            }\n",
      "          ]\n",
      "        },\n",
      "        {\n",
      "          \"start_time\": 2.27,\n",
      "          \"end_time\": 2.73,\n",
      "          \"alternatives\": [\n",
      "            {\n",
      "              \"word\": \"today\",\n",
      "              \"confidence\": 0.97\n",
      "            }\n",
      "          ]\n",
      "        },\n",
      "        {\n",
      "          \"start_time\": 3.08,\n",
      "          \"end_time\": 3.55,\n",
      "          \"alternatives\": [\n",
      "            {\n",
      "              \"word\": \"creating\",\n",
      "              \"confidence\": 0.99\n",
      "            }\n",
      "          ]\n",
      "        },\n",
      "        {\n",
      "          \"start_time\": 3.55,\n",
      "          \"end_time\": 3.68,\n",
      "          \"alternatives\": [\n",
      "            {\n",
      "              \"word\": \"an\",\n",
      "              \"confidence\": 0.99\n",
      "            }\n",
      "          ]\n",
      "        },\n",
      "        {\n",
      "          \"start_time\": 3.68,\n",
      "          \"end_time\": 4.04,\n",
      "          \"alternatives\": [\n",
      "            {\n",
      "              \"word\": \"audio\",\n",
      "              \"confidence\": 0.99\n",
      "            }\n",
      "          ]\n",
      "        },\n",
      "        {\n",
      "          \"start_time\": 4.04,\n",
      "          \"end_time\": 4.42,\n",
      "          \"alternatives\": [\n",
      "            {\n",
      "              \"word\": \"file\",\n",
      "              \"confidence\": 1.0\n",
      "            }\n",
      "          ]\n",
      "        },\n",
      "        {\n",
      "          \"start_time\": 4.42,\n",
      "          \"end_time\": 4.52,\n",
      "          \"alternatives\": [\n",
      "            {\n",
      "              \"word\": \"of\",\n",
      "              \"confidence\": 1.0\n",
      "            }\n",
      "          ]\n",
      "        },\n",
      "        {\n",
      "          \"start_time\": 4.52,\n",
      "          \"end_time\": 4.73,\n",
      "          \"alternatives\": [\n",
      "            {\n",
      "              \"word\": \"this\",\n",
      "              \"confidence\": 1.0\n",
      "            }\n",
      "          ]\n",
      "        },\n",
      "        {\n",
      "          \"start_time\": 4.73,\n",
      "          \"end_time\": 5.33,\n",
      "          \"alternatives\": [\n",
      "            {\n",
      "              \"word\": \"text\",\n",
      "              \"confidence\": 0.96\n",
      "            }\n",
      "          ]\n",
      "        }\n",
      "      ],\n",
      "      \"keywords_result\": {\n",
      "        \"data\": [\n",
      "          {\n",
      "            \"start_time\": 1.36,\n",
      "            \"end_time\": 1.64,\n",
      "            \"confidence\": 0.99,\n",
      "            \"normalized_text\": \"data\"\n",
      "          }\n",
      "        ],\n",
      "        \"today\": [\n",
      "          {\n",
      "            \"start_time\": 2.27,\n",
      "            \"end_time\": 2.73,\n",
      "            \"confidence\": 0.97,\n",
      "            \"normalized_text\": \"today\"\n",
      "          }\n",
      "        ]\n",
      "      }\n",
      "    }\n",
      "  ]\n",
      "}\n"
     ]
    }
   ],
   "source": [
    "#Watson API STT\n",
    "\n",
    "import json\n",
    "import os\n",
    "from os.path import join, dirname\n",
    "from ibm_watson import SpeechToTextV1\n",
    "from ibm_cloud_sdk_core.authenticators import IAMAuthenticator\n",
    "\n",
    "authenticator = IAMAuthenticator('xIYhXtY6yerL5RaJtcIWeZsRUEhr2Lg4QtJl8ewdWdFJ')\n",
    "speech_to_text = SpeechToTextV1(\n",
    "    authenticator=authenticator\n",
    ")\n",
    "\n",
    "speech_to_text.set_service_url('https://api.eu-gb.speech-to-text.watson.cloud.ibm.com/instances/6fedbb60-6c90-4d7c-bcad-2d11f3e4b917')\n",
    "\n",
    "with open(os.path.join(os.path.dirname(os.path.abspath(\"__file__\")), './.', 'Rutuja_tts_2.wav'), 'rb') as audio_file:\n",
    "    speech_recognition_results = speech_to_text.recognize(\n",
    "        audio=audio_file,\n",
    "        content_type='audio/wav',\n",
    "        word_alternatives_threshold=0.9,\n",
    "        keywords=['data', 'hi', 'today'],\n",
    "        keywords_threshold=0.5\n",
    "    ).get_result()\n",
    "print(json.dumps(speech_recognition_results, indent=2))"
   ]
  },
  {
   "cell_type": "markdown",
   "metadata": {},
   "source": [
    "### CALCULATOR "
   ]
  },
  {
   "cell_type": "code",
   "execution_count": 19,
   "metadata": {},
   "outputs": [
    {
     "name": "stdout",
     "output_type": "stream",
     "text": [
      "Your speech_recognition version is: 3.8.1\n",
      "Say what you want to calculate, example: 3 plus 3\n",
      "3 x 7\n",
      "21\n"
     ]
    }
   ],
   "source": [
    "# Calculator\n",
    "# 3 multiplied by 7\n",
    "\n",
    "import operator\n",
    "import speech_recognition as s_r\n",
    "print(\"Your speech_recognition version is: \"+s_r.__version__)\n",
    "\n",
    "r = s_r.Recognizer()\n",
    "my_mic_device = s_r.Microphone(device_index=1)\n",
    "\n",
    "with s_r.Microphone() as source:\n",
    "    print(\"Say what you want to calculate, example: 3 plus 3\")\n",
    "    r.adjust_for_ambient_noise(source)\n",
    "    audio = r.listen(source)\n",
    "my_string=r.recognize_google(audio)\n",
    "print(my_string)            # input for calc\n",
    "\n",
    "def get_operator_fn(op):\n",
    "    return {\n",
    "        '+' : operator.add,\n",
    "        '-' : operator.sub,\n",
    "        'x' : operator.mul,\n",
    "        'divided' :operator.__truediv__,d\n",
    "        'Mod' : operator.mod,\n",
    "        'mod' : operator.mod,\n",
    "        '^' : operator.xor,\n",
    "        }[op]\n",
    "\n",
    "def eval_binary_expr(op1, oper, op2):\n",
    "    op1,op2 = int(op1), int(op2)                # convert str op1 & op2 to int\n",
    "    return get_operator_fn(oper)(op1, op2)\n",
    "\n",
    "ans = eval_binary_expr(*(my_string.split()))    # split str as op1 op op2\n",
    "\n",
    "mytext = my_string + 'is' + str(ans)\n",
    "\n",
    "language = 'en'\n",
    "myobj = gTTS(text = mytext,lang = language,slow = False)\n",
    "myobj.save(\"Rutuja_calc.mp3\")\n",
    "\n",
    "#import pydub\n",
    "from pydub import AudioSegment\n",
    "from pydub.playback import play\n",
    "#pydub.AudioSegment.ffmpeg = \"/absolute/path/to/ffmpeg\"\n",
    "\n",
    "sound = AudioSegment.from_mp3(\"Rutuja_calc.mp3\")\n",
    "play(sound)\n",
    "print(ans)          # output of calc"
   ]
  },
  {
   "cell_type": "code",
   "execution_count": null,
   "metadata": {},
   "outputs": [],
   "source": []
  },
  {
   "cell_type": "code",
   "execution_count": null,
   "metadata": {},
   "outputs": [],
   "source": []
  }
 ],
 "metadata": {
  "kernelspec": {
   "display_name": "Python 3",
   "language": "python",
   "name": "python3"
  },
  "language_info": {
   "codemirror_mode": {
    "name": "ipython",
    "version": 3
   },
   "file_extension": ".py",
   "mimetype": "text/x-python",
   "name": "python",
   "nbconvert_exporter": "python",
   "pygments_lexer": "ipython3",
   "version": "3.7.3"
  }
 },
 "nbformat": 4,
 "nbformat_minor": 4
}
