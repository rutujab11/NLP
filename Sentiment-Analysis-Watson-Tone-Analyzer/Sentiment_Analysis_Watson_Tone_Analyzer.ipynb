{
 "cells": [
  {
   "cell_type": "markdown",
   "metadata": {
    "id": "AY_oOp0qQYIY"
   },
   "source": [
    "#### Sentiment Analysis using NLTK / Watson –Tone analyzer "
   ]
  },
  {
   "cell_type": "code",
   "execution_count": 12,
   "metadata": {
    "colab": {
     "base_uri": "https://localhost:8080/"
    },
    "id": "MPxWnslBQe9N",
    "outputId": "8a0c8b8e-ede3-46f5-c610-6c6bec72d9ed"
   },
   "outputs": [
    {
     "name": "stdout",
     "output_type": "stream",
     "text": [
      "Collecting ibm-watson>=4.6.0\n",
      "\u001b[?25l  Downloading https://files.pythonhosted.org/packages/9b/88/395d7d52df29f321ae1150cf9b5a71cef8611570230502597c427bc1e9d9/ibm-watson-5.1.0.tar.gz (382kB)\n",
      "\u001b[K     |████████████████████████████████| 389kB 6.5MB/s \n",
      "\u001b[?25hRequirement already satisfied, skipping upgrade: requests<3.0,>=2.0 in /usr/local/lib/python3.6/dist-packages (from ibm-watson>=4.6.0) (2.23.0)\n",
      "Requirement already satisfied, skipping upgrade: python_dateutil>=2.5.3 in /usr/local/lib/python3.6/dist-packages (from ibm-watson>=4.6.0) (2.8.1)\n",
      "Collecting websocket-client==0.48.0\n",
      "\u001b[?25l  Downloading https://files.pythonhosted.org/packages/8a/a1/72ef9aa26cfe1a75cee09fc1957e4723add9de098c15719416a1ee89386b/websocket_client-0.48.0-py2.py3-none-any.whl (198kB)\n",
      "\u001b[K     |████████████████████████████████| 204kB 10.6MB/s \n",
      "\u001b[?25hCollecting ibm_cloud_sdk_core>=3.3.6\n",
      "  Downloading https://files.pythonhosted.org/packages/26/72/1f0c7beb208f355f80aeafc38919e418f1fa4953764bd177782ad1da640d/ibm-cloud-sdk-core-3.3.6.tar.gz\n",
      "Requirement already satisfied, skipping upgrade: certifi>=2017.4.17 in /usr/local/lib/python3.6/dist-packages (from requests<3.0,>=2.0->ibm-watson>=4.6.0) (2020.12.5)\n",
      "Requirement already satisfied, skipping upgrade: chardet<4,>=3.0.2 in /usr/local/lib/python3.6/dist-packages (from requests<3.0,>=2.0->ibm-watson>=4.6.0) (3.0.4)\n",
      "Requirement already satisfied, skipping upgrade: idna<3,>=2.5 in /usr/local/lib/python3.6/dist-packages (from requests<3.0,>=2.0->ibm-watson>=4.6.0) (2.10)\n",
      "Requirement already satisfied, skipping upgrade: urllib3!=1.25.0,!=1.25.1,<1.26,>=1.21.1 in /usr/local/lib/python3.6/dist-packages (from requests<3.0,>=2.0->ibm-watson>=4.6.0) (1.24.3)\n",
      "Requirement already satisfied, skipping upgrade: six>=1.5 in /usr/local/lib/python3.6/dist-packages (from python_dateutil>=2.5.3->ibm-watson>=4.6.0) (1.15.0)\n",
      "Collecting PyJWT<3.0.0,>=2.0.0a1\n",
      "  Downloading https://files.pythonhosted.org/packages/b4/9b/8850f99027ed029af6828199cc87179eaccbbf1f9e6e373e7f0177d32dad/PyJWT-2.0.1-py3-none-any.whl\n",
      "Building wheels for collected packages: ibm-watson, ibm-cloud-sdk-core\n",
      "  Building wheel for ibm-watson (setup.py) ... \u001b[?25l\u001b[?25hdone\n",
      "  Created wheel for ibm-watson: filename=ibm_watson-5.1.0-cp36-none-any.whl size=375439 sha256=7378d6debc83900a4e90a2d25d888245f71c81e4ddb6d9e3b71c6a234e380ecd\n",
      "  Stored in directory: /root/.cache/pip/wheels/49/6d/cf/1d91261b96363da78bf9b02699fd2262e6b5dad179500690c1\n",
      "  Building wheel for ibm-cloud-sdk-core (setup.py) ... \u001b[?25l\u001b[?25hdone\n",
      "  Created wheel for ibm-cloud-sdk-core: filename=ibm_cloud_sdk_core-3.3.6-cp36-none-any.whl size=55785 sha256=177bd4e2f394c647cf47b16db958bbdb952fcb4eb105e49c6c03251e2aec1ef7\n",
      "  Stored in directory: /root/.cache/pip/wheels/49/1a/93/9c99ecd9fcfcdc862e4f4e61fc596db58f579fbb4c89da47b3\n",
      "Successfully built ibm-watson ibm-cloud-sdk-core\n",
      "Installing collected packages: websocket-client, PyJWT, ibm-cloud-sdk-core, ibm-watson\n",
      "Successfully installed PyJWT-2.0.1 ibm-cloud-sdk-core-3.3.6 ibm-watson-5.1.0 websocket-client-0.48.0\n"
     ]
    }
   ],
   "source": [
    "# install/upgrade ibm watson\n",
    "\n",
    "!pip install --upgrade \"ibm-watson>=4.6.0\""
   ]
  },
  {
   "cell_type": "code",
   "execution_count": 1,
   "metadata": {
    "id": "BVQTMAwcQupD"
   },
   "outputs": [],
   "source": [
    "# importing necessary libraries\n",
    "import json\n",
    "from ibm_watson import ToneAnalyzerV3\n",
    "from ibm_cloud_sdk_core.authenticators import IAMAuthenticator\n",
    "\n",
    "# api key\n",
    "authenticator = IAMAuthenticator('yAyCc5UGleUoN1U-SN3bFz4tIMEm-Qo5wXdS_3nUrT96')\n",
    "tone_analyzer = ToneAnalyzerV3(\n",
    "    version='2020-10-24',\n",
    "    authenticator=authenticator\n",
    ")\n",
    "\n",
    "# api url\n",
    "tone_analyzer.set_service_url('https://api.eu-gb.tone-analyzer.watson.cloud.ibm.com/instances/709cc9cc-8506-4412-b23f-8843da449146')"
   ]
  },
  {
   "cell_type": "code",
   "execution_count": 2,
   "metadata": {
    "colab": {
     "base_uri": "https://localhost:8080/"
    },
    "id": "sIDjkCXLRZXR",
    "outputId": "9cd68de3-4ed1-4abe-e209-e59eeb6d30e4"
   },
   "outputs": [
    {
     "name": "stdout",
     "output_type": "stream",
     "text": [
      "{\n",
      "  \"document_tone\": {\n",
      "    \"tones\": [\n",
      "      {\n",
      "        \"score\": 0.6165,\n",
      "        \"tone_id\": \"sadness\",\n",
      "        \"tone_name\": \"Sadness\"\n",
      "      },\n",
      "      {\n",
      "        \"score\": 0.829888,\n",
      "        \"tone_id\": \"analytical\",\n",
      "        \"tone_name\": \"Analytical\"\n",
      "      }\n",
      "    ]\n",
      "  },\n",
      "  \"sentences_tone\": [\n",
      "    {\n",
      "      \"sentence_id\": 0,\n",
      "      \"text\": \"Team, I know that times are tough!\",\n",
      "      \"tones\": [\n",
      "        {\n",
      "          \"score\": 0.801827,\n",
      "          \"tone_id\": \"analytical\",\n",
      "          \"tone_name\": \"Analytical\"\n",
      "        }\n",
      "      ]\n",
      "    },\n",
      "    {\n",
      "      \"sentence_id\": 1,\n",
      "      \"text\": \"Product sales have been disappointing for the past three quarters.\",\n",
      "      \"tones\": [\n",
      "        {\n",
      "          \"score\": 0.771241,\n",
      "          \"tone_id\": \"sadness\",\n",
      "          \"tone_name\": \"Sadness\"\n",
      "        },\n",
      "        {\n",
      "          \"score\": 0.687768,\n",
      "          \"tone_id\": \"analytical\",\n",
      "          \"tone_name\": \"Analytical\"\n",
      "        }\n",
      "      ]\n",
      "    },\n",
      "    {\n",
      "      \"sentence_id\": 2,\n",
      "      \"text\": \"We have a competitive product, but we need to do a better job of selling it!\",\n",
      "      \"tones\": [\n",
      "        {\n",
      "          \"score\": 0.506763,\n",
      "          \"tone_id\": \"analytical\",\n",
      "          \"tone_name\": \"Analytical\"\n",
      "        }\n",
      "      ]\n",
      "    }\n",
      "  ]\n",
      "}\n"
     ]
    }
   ],
   "source": [
    "# input text\n",
    "text = 'Team, I know that times are tough! Product '\\\n",
    "    'sales have been disappointing for the past three '\\\n",
    "    'quarters. We have a competitive product, but we '\\\n",
    "    'need to do a better job of selling it!'\n",
    "\n",
    "# tone analyzing\n",
    "tone_analysis = tone_analyzer.tone(\n",
    "    {'text': text}, # pass the input as a parameter\n",
    "    content_type='application/json'\n",
    ").get_result()\n",
    "\n",
    "# display results\n",
    "print(json.dumps(tone_analysis, indent=2))"
   ]
  },
  {
   "cell_type": "code",
   "execution_count": 3,
   "metadata": {
    "colab": {
     "base_uri": "https://localhost:8080/"
    },
    "id": "NCpbdL8vRfwB",
    "outputId": "f0f36d86-ecc7-4611-d9a1-80240d2a419c"
   },
   "outputs": [
    {
     "name": "stdout",
     "output_type": "stream",
     "text": [
      "{\n",
      "  \"document_tone\": {\n",
      "    \"tones\": [\n",
      "      {\n",
      "        \"score\": 0.785248,\n",
      "        \"tone_id\": \"confident\",\n",
      "        \"tone_name\": \"Confident\"\n",
      "      },\n",
      "      {\n",
      "        \"score\": 0.893812,\n",
      "        \"tone_id\": \"analytical\",\n",
      "        \"tone_name\": \"Analytical\"\n",
      "      }\n",
      "    ]\n",
      "  },\n",
      "  \"sentences_tone\": [\n",
      "    {\n",
      "      \"sentence_id\": 0,\n",
      "      \"text\": \"This seems absolutely ridiculous.\",\n",
      "      \"tones\": [\n",
      "        {\n",
      "          \"score\": 0.705163,\n",
      "          \"tone_id\": \"anger\",\n",
      "          \"tone_name\": \"Anger\"\n",
      "        },\n",
      "        {\n",
      "          \"score\": 0.898327,\n",
      "          \"tone_id\": \"confident\",\n",
      "          \"tone_name\": \"Confident\"\n",
      "        },\n",
      "        {\n",
      "          \"score\": 0.762356,\n",
      "          \"tone_id\": \"analytical\",\n",
      "          \"tone_name\": \"Analytical\"\n",
      "        }\n",
      "      ]\n",
      "    },\n",
      "    {\n",
      "      \"sentence_id\": 1,\n",
      "      \"text\": \"Everywhere else I look the game averages at about a 9/10 (at least on console at release).\",\n",
      "      \"tones\": []\n",
      "    },\n",
      "    {\n",
      "      \"sentence_id\": 2,\n",
      "      \"text\": \"It received the same critical response as Spiderman PS4 (actually better in a lot of cases).\",\n",
      "      \"tones\": [\n",
      "        {\n",
      "          \"score\": 0.607608,\n",
      "          \"tone_id\": \"joy\",\n",
      "          \"tone_name\": \"Joy\"\n",
      "        },\n",
      "        {\n",
      "          \"score\": 0.664451,\n",
      "          \"tone_id\": \"analytical\",\n",
      "          \"tone_name\": \"Analytical\"\n",
      "        }\n",
      "      ]\n",
      "    },\n",
      "    {\n",
      "      \"sentence_id\": 3,\n",
      "      \"text\": \"Even if you exaggerate the points Joe tries to make, it doesnt justify his main score at all.\",\n",
      "      \"tones\": [\n",
      "        {\n",
      "          \"score\": 0.900604,\n",
      "          \"tone_id\": \"analytical\",\n",
      "          \"tone_name\": \"Analytical\"\n",
      "        }\n",
      "      ]\n",
      "    }\n",
      "  ]\n",
      "}\n"
     ]
    }
   ],
   "source": [
    "text =  'This seems absolutely ridiculous. Everywhere '\\\n",
    "        'else I look the game averages at about a 9/10 (at least on console at release). It '\\\n",
    "        'received the same critical response as Spiderman PS4 (actually better in a lot of cases). Even '\\\n",
    "        'if you exaggerate the points Joe tries to make, it doesnt justify his main score at all.'\n",
    "\n",
    "tone_analysis = tone_analyzer.tone(\n",
    "    {'text': text},\n",
    "    content_type='application/json'\n",
    ").get_result()\n",
    "\n",
    "print(json.dumps(tone_analysis, indent=2))"
   ]
  },
  {
   "cell_type": "code",
   "execution_count": 4,
   "metadata": {
    "colab": {
     "base_uri": "https://localhost:8080/"
    },
    "id": "z8NvPaADRmF-",
    "outputId": "d2eab1ac-b657-44cd-af18-00b1c0114ec4"
   },
   "outputs": [
    {
     "name": "stdout",
     "output_type": "stream",
     "text": [
      "{\n",
      "  \"utterances_tone\": [\n",
      "    {\n",
      "      \"utterance_id\": 0,\n",
      "      \"utterance_text\": \"Hello, I'm having a problem with your product.\",\n",
      "      \"tones\": [\n",
      "        {\n",
      "          \"score\": 0.686361,\n",
      "          \"tone_id\": \"polite\",\n",
      "          \"tone_name\": \"Polite\"\n",
      "        }\n",
      "      ]\n",
      "    },\n",
      "    {\n",
      "      \"utterance_id\": 1,\n",
      "      \"utterance_text\": \"OK, let me know what's going on, please.\",\n",
      "      \"tones\": [\n",
      "        {\n",
      "          \"score\": 0.92724,\n",
      "          \"tone_id\": \"polite\",\n",
      "          \"tone_name\": \"Polite\"\n",
      "        }\n",
      "      ]\n",
      "    },\n",
      "    {\n",
      "      \"utterance_id\": 2,\n",
      "      \"utterance_text\": \"Well, nothing is working :(\",\n",
      "      \"tones\": [\n",
      "        {\n",
      "          \"score\": 0.997795,\n",
      "          \"tone_id\": \"sad\",\n",
      "          \"tone_name\": \"Sad\"\n",
      "        }\n",
      "      ]\n",
      "    },\n",
      "    {\n",
      "      \"utterance_id\": 3,\n",
      "      \"utterance_text\": \"Sorry to hear that.\",\n",
      "      \"tones\": [\n",
      "        {\n",
      "          \"score\": 0.730982,\n",
      "          \"tone_id\": \"polite\",\n",
      "          \"tone_name\": \"Polite\"\n",
      "        },\n",
      "        {\n",
      "          \"score\": 0.672499,\n",
      "          \"tone_id\": \"sympathetic\",\n",
      "          \"tone_name\": \"Sympathetic\"\n",
      "        }\n",
      "      ]\n",
      "    }\n",
      "  ]\n",
      "}\n"
     ]
    }
   ],
   "source": [
    "# input in format of conversation between 2 people\n",
    "utterances = [\n",
    "    {\n",
    "        \"text\": \"Hello, I'm having a problem with your product.\",\n",
    "        \"user\": \"customer\"\n",
    "    },\n",
    "    {\n",
    "        \"text\": \"OK, let me know what's going on, please.\",\n",
    "        \"user\": \"agent\"\n",
    "    },\n",
    "    {\n",
    "        \"text\": \"Well, nothing is working :(\",\n",
    "        \"user\": \"customer\"\n",
    "    },\n",
    "    {\n",
    "        \"text\": \"Sorry to hear that.\",\n",
    "        \"user\": \"agent\"\n",
    "    }\n",
    "]\n",
    "\n",
    "# tone analyzer for chats\n",
    "utterance_analyses = tone_analyzer.tone_chat(utterances).get_result()\n",
    "\n",
    "# display results\n",
    "print(json.dumps(utterance_analyses, indent=2))"
   ]
  },
  {
   "cell_type": "code",
   "execution_count": null,
   "metadata": {},
   "outputs": [],
   "source": []
  }
 ],
 "metadata": {
  "colab": {
   "collapsed_sections": [],
   "name": "CCNLP1_PB49_AditiChavan_Lab5.ipynb",
   "provenance": []
  },
  "kernelspec": {
   "display_name": "Python 3",
   "language": "python",
   "name": "python3"
  },
  "language_info": {
   "codemirror_mode": {
    "name": "ipython",
    "version": 3
   },
   "file_extension": ".py",
   "mimetype": "text/x-python",
   "name": "python",
   "nbconvert_exporter": "python",
   "pygments_lexer": "ipython3",
   "version": "3.7.3"
  }
 },
 "nbformat": 4,
 "nbformat_minor": 1
}
